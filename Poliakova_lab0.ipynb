{
  "nbformat": 4,
  "nbformat_minor": 0,
  "metadata": {
    "colab": {
      "provenance": [],
      "include_colab_link": true
    },
    "kernelspec": {
      "name": "python3",
      "display_name": "Python 3"
    },
    "language_info": {
      "name": "python"
    }
  },
  "cells": [
    {
      "cell_type": "markdown",
      "metadata": {
        "id": "view-in-github",
        "colab_type": "text"
      },
      "source": [
        "<a href=\"https://colab.research.google.com/github/Daria13-gif/Comand_000/blob/main/Poliakova_lab0.ipynb\" target=\"_parent\"><img src=\"https://colab.research.google.com/assets/colab-badge.svg\" alt=\"Open In Colab\"/></a>"
      ]
    },
    {
      "cell_type": "markdown",
      "source": [
        "### Задача 1 – Умножение матриц"
      ],
      "metadata": {
        "id": "Rbr-ll62IIsZ"
      }
    },
    {
      "cell_type": "markdown",
      "source": [
        "Напишите функцию для умножения матриц, используя только списки и циклы.\n",
        "\n",
        "Не забывайте проверить, что умножение выполнить возможно.\n",
        "Напомним, что две матрицы могут быть перемножены, если число столбцов первой матрицы равно числу строк второй матрицы. Если матрица\n",
        "$A$ имеет размер $m×n$ ($m$ строк и $nя$ столбцов), а матрица $B$ имеет размер $n×p$, то их произведение $C=AB$ будет иметь размер $m×p$.\n",
        "\n",
        "Если $A=(a_{ij})$ — матрица размера $m×n$, а $B=(b_{jk})$ — матрица размера $n×p$, то элемент $c_{ik}$ матрицы $C=AB$ вычисляется по формуле:\n",
        "\n",
        "$$c_{ik}=\\sum_{j=1}^{n}a_{ij}b_{jk}$$\n",
        "\n",
        "То есть каждый элемент новой матрицы является суммой произведений соответствующих элементов строки первой матрицы и столбца второй."
      ],
      "metadata": {
        "id": "8INa2MESLZ4O"
      }
    },
    {
      "cell_type": "code",
      "source": [
        "import numpy as np\n",
        "\n",
        "matrix1 = np.array([[1, 2, 3], [4, 5, 6], [7, 8, 9]])\n",
        "matrix2 = np.array([[9, 8, 7], [6, 5, 4], [3, 2, 1]])\n",
        "\n",
        "print(\"Произведение матриц:\")\n",
        "matrix1 @ matrix2"
      ],
      "metadata": {
        "colab": {
          "base_uri": "https://localhost:8080/"
        },
        "id": "LS0_ikIHtvmt",
        "outputId": "d163b564-d477-4480-c872-b82a2d34c5ee"
      },
      "execution_count": null,
      "outputs": [
        {
          "output_type": "stream",
          "name": "stdout",
          "text": [
            "Произведение матриц:\n"
          ]
        },
        {
          "output_type": "execute_result",
          "data": {
            "text/plain": [
              "array([[ 30,  24,  18],\n",
              "       [ 84,  69,  54],\n",
              "       [138, 114,  90]])"
            ]
          },
          "metadata": {},
          "execution_count": 30
        }
      ]
    },
    {
      "cell_type": "code",
      "source": [
        "def multiply_matrices(A, B):\n",
        "    # Получаем размеры матриц\n",
        "    m = len(A)         # Количество строк в A\n",
        "    n = len(A[0])      # Количество столбцов в A\n",
        "    p = len(B[0])      # Количество столбцов в B\n",
        "\n",
        "    # Проверяем, можно ли перемножить матрицы\n",
        "    if len(B) != n:\n",
        "        raise ValueError(\"Число столбцов первой матрицы должно равняться числу строк второй матрицы.\")\n",
        "\n",
        "    # Создаем результатирующую матрицу C размером m x p\n",
        "    C = [[0 for _ in range(p)] for _ in range(m)]\n",
        "\n",
        "    # Умножаем матрицы\n",
        "    for i in range(m):\n",
        "        for j in range(p):\n",
        "            for k in range(n):\n",
        "                C[i][j] += A[i][k] * B[k][j]\n",
        "\n",
        "    return C\n",
        "\n",
        "# Пример использования функции\n",
        "matrix1 = [[1, 2, 3],\n",
        "            [4, 5, 6],\n",
        "            [7, 8, 9]]\n",
        "\n",
        "matrix2 = [[9, 8, 7],\n",
        "            [6, 5, 4],\n",
        "            [3, 2, 1]]\n",
        "\n",
        "# Выводим результат\n",
        "result = multiply_matrices(matrix1, matrix2)\n",
        "print(\"Произведение матриц:\")\n",
        "for row in result:\n",
        "    print(row)\n"
      ],
      "metadata": {
        "colab": {
          "base_uri": "https://localhost:8080/"
        },
        "id": "sBei_dZtwXCn",
        "outputId": "584c9bd1-a073-4e92-b2e0-32194ca685d0"
      },
      "execution_count": null,
      "outputs": [
        {
          "output_type": "stream",
          "name": "stdout",
          "text": [
            "Произведение матриц:\n",
            "[30, 24, 18]\n",
            "[84, 69, 54]\n",
            "[138, 114, 90]\n"
          ]
        }
      ]
    },
    {
      "cell_type": "markdown",
      "source": [
        "### Задача 2 – Функции"
      ],
      "metadata": {
        "id": "j73IJuxjISV3"
      }
    },
    {
      "cell_type": "markdown",
      "metadata": {
        "id": "zxRIdPO9gYyX"
      },
      "source": [
        "Дано две функции:\n",
        "\n",
        "\\begin{matrix} F(x) = a_{11}x^2 + a_{12}x + a_{13}&(1) \\\\ P(x) = a_{21}x^2+a_{22}x + a_{23} &(2) \\end{matrix}\n",
        "​\n",
        "* На вход программа должна принимать 2 строки. Каждая строка содержит 3 действительных числа через пробел: коэффициенты $a$.\n",
        "* Необходимо найти точки экстремума функций (например, через функцию [`minimize_scalar()`](https://docs.scipy.org/doc/scipy/reference/generated/scipy.optimize.minimize_scalar.html), [`fmin()`](https://docs.scipy.org/doc/scipy/reference/generated/scipy.optimize.fmin.html) и др.) и определить, есть ли у функций общие решения при введенных коэффициентах на некотором диапазоне значений $x$, предусмотрев ситуации, когда решения есть, решений нет и решений бесконечно много.\n"
      ]
    },
    {
      "cell_type": "code",
      "source": [
        "import numpy as np\n",
        "\n",
        "def find_extrema_and_common_solutions(coeffs_f, coeffs_p):\n",
        "    # Коэффициенты для F(x)\n",
        "    a11, a12, a13 = coeffs_f\n",
        "    # Коэффициенты для P(x)\n",
        "    a21, a22, a23 = coeffs_p\n",
        "\n",
        "    # Вычисляем экстремумы (вершины) для F(x) и P(x)\n",
        "    if a11 != 0:\n",
        "        x_F = -a12 / (2 * a11)  # Вершина F(x)\n",
        "    else:\n",
        "        x_F = None  # Не квадратичная функция\n",
        "\n",
        "    if a21 != 0:\n",
        "        x_P = -a22 / (2 * a21)  # Вершина P(x)\n",
        "    else:\n",
        "        x_P = None  # Не квадратичная функция\n",
        "\n",
        "    # Находим общие решения, приравнивая F(x) к P(x)\n",
        "    a_diff = a11 - a21\n",
        "    b_diff = a12 - a22\n",
        "    c_diff = a13 - a23\n",
        "\n",
        "    # Вычисляем дискриминант\n",
        "    D = b_diff ** 2 - 4 * a_diff * c_diff\n",
        "\n",
        "    # Определяем количество решений\n",
        "    if a_diff == 0:  # Если a11 == a21, то это линейное уравнение или постоянное\n",
        "        if b_diff == 0:\n",
        "            if c_diff == 0:\n",
        "                common_solutions = float('inf')  # Бесконечно много решений\n",
        "                common_x_values = ()\n",
        "            else:\n",
        "                common_solutions = 0  # Нет решений\n",
        "                common_x_values = ()\n",
        "        else:\n",
        "            common_solutions = 1  # Одно решение\n",
        "            x = -c_diff / b_diff  # Линейное уравнение\n",
        "            common_x_values = (x,)\n",
        "    else:\n",
        "        if D > 0:\n",
        "            common_solutions = 2  # Два различных решения\n",
        "            # Находим корни\n",
        "            x1 = (-b_diff + np.sqrt(D)) / (2 * a_diff)\n",
        "            x2 = (-b_diff - np.sqrt(D)) / (2 * a_diff)\n",
        "            common_x_values = (x1, x2)\n",
        "        elif D == 0:\n",
        "            common_solutions = 1  # Одно повторяющееся решение\n",
        "            x = -b_diff / (2 * a_diff)\n",
        "            common_x_values = (x,)\n",
        "        else:\n",
        "            common_solutions = 0  # Нет действительных решений\n",
        "            common_x_values = ()\n",
        "\n",
        "    return {\n",
        "        'extremum_F': x_F,\n",
        "        'extremum_P': x_P,\n",
        "        'common_solutions': common_solutions,\n",
        "        'common_x_values': common_x_values\n",
        "    }\n",
        "\n",
        "# Ввод коэффициентов\n",
        "input_f = input(\"Введите коэффициенты для F(x) (a11 a12 a13): \")\n",
        "input_p = input(\"Введите коэффициенты для P(x) (a21 a22 a23): \")\n",
        "\n",
        "# Преобразуем введенные строки в списки с вещественными числами\n",
        "coeffs_f = list(map(float, input_f.split()))\n",
        "coeffs_p = list(map(float, input_p.split()))\n",
        "\n",
        "# Запускаем функцию\n",
        "results = find_extrema_and_common_solutions(coeffs_f, coeffs_p)\n",
        "\n",
        "# Выводим результаты\n",
        "print(\"Экстремум F(x) при x =\", results['extremum_F'])\n",
        "print(\"Экстремум P(x) при x =\", results['extremum_P'])\n",
        "print(\"Количество общих решений:\", results['common_solutions'])\n",
        "if results['common_solutions'] > 0:\n",
        "    print(\"Общие решения (x):\", results['common_x_values'])"
      ],
      "metadata": {
        "colab": {
          "base_uri": "https://localhost:8080/"
        },
        "id": "IcLzCTCnkW5p",
        "outputId": "de110d72-fa69-4b1c-f243-1d757ecc19d1"
      },
      "execution_count": null,
      "outputs": [
        {
          "output_type": "stream",
          "name": "stdout",
          "text": [
            "Введите коэффициенты для F(x) (a11 a12 a13): 1 0 -1\n",
            "Введите коэффициенты для P(x) (a21 a22 a23): 1 0 1\n",
            "Экстремум F(x) при x = -0.0\n",
            "Экстремум P(x) при x = -0.0\n",
            "Количество общих решений: 0\n"
          ]
        }
      ]
    },
    {
      "cell_type": "markdown",
      "source": [
        "### Задача 3 – Коэффициент асимметрии и эксцесса"
      ],
      "metadata": {
        "id": "85rPnAsNP4DJ"
      }
    },
    {
      "cell_type": "markdown",
      "source": [
        "Напишите функцию, которая для случайной выборки рассчитывает коэффициенты асимметрии и эксцесса.\n",
        "\n",
        "Коэффициент асимметрии:\n",
        "\n",
        "$$A_3=\\frac{m_3}{\\sigma^3}$$\n",
        "\n",
        "Коэффициент эксцесса:\n",
        "\n",
        "$$E_4=\\frac{m_4}{\\sigma^4}-3$$\n",
        "\n",
        "С помощью этих коэффициентов можно прикинуть, насколько близко распределение выборки к нормальному. Для расчета этих коэффициентов понадобится рассчитать центральные моменты третьего ($m_3$) и четвертого ($m_4$) порядка. Основные формулы, которые понадобятся для расчетов:\n",
        "1. Момент второго порядка (он же – дисперсия):\n",
        "$$m_2=D_e=\\frac{∑(x_i-\\overline{x_e})^2\\times n_i}{n}$$\n",
        "2. Момент третьего порядка:\n",
        "$$m_3=\\frac{∑(x_i-\\overline{x_e})^3\\times n_i}{n}$$\n",
        "3. Момент четвертого порядка:\n",
        "$$m_4=\\frac{∑(x_i-\\overline{x_e})^4\\times n_i}{n}$$\n",
        "\n",
        "В формулах выше $\\overline{x_e}$ – это выборочное среднее.\n",
        "$$\\overline{x_e}=\\frac{∑(x_i\\times n_i)}{n},$$\n",
        "где $x_i$ – $i$-е значение из выборки, $n_i$ – число раз, когда $x_i$ встретилось в выборке, $n$ – объем выборки.\n",
        "\n",
        "\n",
        "Проверить корректность расчетов можно с помощью функции [`kurtosis`](https://docs.scipy.org/doc/scipy/reference/generated/scipy.stats.kurtosis.html) для коэффициента эксцесса и функции [`skew`](https://docs.scipy.org/doc/scipy/reference/generated/scipy.stats.kurtosis.html) из `scipy`."
      ],
      "metadata": {
        "id": "ECIdYeJwcVDB"
      }
    },
    {
      "cell_type": "markdown",
      "source": [
        "**Коэффициент асимметрии** количественно определяет степень асимметрии распределения. Он показывает, в какую сторону распределение скошено относительно своего среднего значения.\n",
        "\n",
        "1. Если коэффициент асимметрии больше 0, это означает, что \"длинная часть\" распределения находится справа от среднего (правостороннее распределение). Это может указывать на наличие выбросов или значений, превышающих среднее.\n",
        "2. Если коэффициент меньше 0, \"длинная часть\" находится слева от среднего (левостороннее распределение). Это может свидетельствовать о большем количестве низких значений.\n",
        "3. Коэффициент равен 0, что указывает на симметрию вокруг среднего значения.\n",
        "\n",
        "\n",
        "\n",
        "**Эксцесс** измеряет остроту распределения по сравнению с нормальным распределением и показывает, насколько вероятны выбросы в данных.\n",
        "\n",
        "1. Если эксцесс положителен (больше 0), это указывает на более острый пик и более тяжелые хвосты по сравнению с нормальным распределением. Это означает, что в данных больше выбросов.\n",
        "2. Если эксцесс равен 0, это соответствует нормальному распределению, где пики и хвосты находятся на стандартном уровне.\n",
        "3. Если эксцесс отрицателен (меньше 0), это говорит о более плоском пике и легких хвостах, что указывает на меньшую вероятность выбросов."
      ],
      "metadata": {
        "id": "lpyTcQGuiKlx"
      }
    },
    {
      "cell_type": "code",
      "source": [
        "from scipy.stats import kurtosis, skew"
      ],
      "metadata": {
        "id": "-r9TXrodLRYV"
      },
      "execution_count": null,
      "outputs": []
    },
    {
      "cell_type": "code",
      "source": [
        "kurtosis([2,3,5,7,8]), skew([2,3,5,7,8])"
      ],
      "metadata": {
        "colab": {
          "base_uri": "https://localhost:8080/"
        },
        "id": "A4u_j34fR_qh",
        "outputId": "c9ad85c0-0386-4d14-d15c-9f567a368cf9"
      },
      "execution_count": null,
      "outputs": [
        {
          "output_type": "execute_result",
          "data": {
            "text/plain": [
              "(-1.56508875739645, 0.0)"
            ]
          },
          "metadata": {},
          "execution_count": 15
        }
      ]
    },
    {
      "cell_type": "code",
      "source": [
        "kurtosis([2,3,2,5,7,2,2,8]), skew([2,3,2,5,7,2,2,8])"
      ],
      "metadata": {
        "colab": {
          "base_uri": "https://localhost:8080/"
        },
        "id": "GJSj0d2aSD1P",
        "outputId": "431a90d3-ab9b-4fdd-f1e1-56ee176633a6"
      },
      "execution_count": null,
      "outputs": [
        {
          "output_type": "execute_result",
          "data": {
            "text/plain": [
              "(-1.1002728454980493, 0.7565586244407938)"
            ]
          },
          "metadata": {},
          "execution_count": 16
        }
      ]
    },
    {
      "cell_type": "code",
      "source": [
        "import matplotlib.pyplot as plt\n",
        "import seaborn as sns\n",
        "\n",
        "sns.histplot([2,3,2,5,7,2,2,8], kde=True);"
      ],
      "metadata": {
        "colab": {
          "base_uri": "https://localhost:8080/",
          "height": 430
        },
        "id": "MqHndfgzVjgA",
        "outputId": "0552a041-4572-4a95-a3d4-c049acf03fa4"
      },
      "execution_count": null,
      "outputs": [
        {
          "output_type": "display_data",
          "data": {
            "text/plain": [
              "<Figure size 640x480 with 1 Axes>"
            ],
            "image/png": "[encoded data removed]"
          },
          "metadata": {}
        }
      ]
    },
    {
      "cell_type": "code",
      "source": [
        "import numpy as np\n",
        "from scipy.stats import kurtosis, skew\n",
        "import matplotlib.pyplot as plt\n",
        "import seaborn as sns\n",
        "\n",
        "def calculate_moments(data):\n",
        "    n = len(data)\n",
        "    mean = np.mean(data)\n",
        "\n",
        "    # Центральный момент второго порядка (дисперсия)\n",
        "    m2 = np.sum((data - mean) ** 2) / n\n",
        "\n",
        "    # Центральный момент третьего порядка\n",
        "    m3 = np.sum((data - mean) ** 3) / n\n",
        "\n",
        "    # Центральный момент четвертого порядка\n",
        "    m4 = np.sum((data - mean) ** 4) / n\n",
        "\n",
        "    return m2, m3, m4\n",
        "\n",
        "def calculate_asymmetry_excess(data):\n",
        "    m2, m3, m4 = calculate_moments(data)\n",
        "\n",
        "    # Стандартное отклонение\n",
        "    std_dev = np.sqrt(m2)\n",
        "\n",
        "    # Коэффициент асимметрии\n",
        "    A = m3 / (std_dev ** 3) if std_dev != 0 else 0\n",
        "\n",
        "    # Коэффициент эксцесса\n",
        "    E = (m4 / (std_dev ** 4)) - 3 if std_dev != 0 else 0\n",
        "\n",
        "    return A, E\n",
        "\n",
        "# Использование функции\n",
        "data1 = [2, 3, 5, 7, 8]\n",
        "data2 = [2, 3, 2, 5, 7, 2, 2, 8]\n",
        "\n",
        "A1, E1 = calculate_asymmetry_excess(data1)\n",
        "A2, E2 = calculate_asymmetry_excess(data2)\n",
        "\n",
        "print(f\"Первый набор данных:\\nКоэффициент асимметрии: {A1}, Коэффициент эксцесса: {E1}\")\n",
        "print(f\"Второй набор данных:\\nКоэффициент асимметрии: {A2}, Коэффициент эксцесса: {E2}\")\n",
        "\n",
        "# Проверка с использованием scipy\n",
        "print(f\"Проверка для первого набора данных: Экцесc: {kurtosis(data1)}, Ассиметрия: {skew(data1)}\")\n",
        "print(f\"Проверка для второго набора данных: Экцесc: {kurtosis(data2)}, Ассиметрия: {skew(data2)}\")\n",
        "\n",
        "# Визуализация\n",
        "sns.histplot(data2, kde=True)\n",
        "plt.title('Гистограмма второго набора данных')\n",
        "plt.xlabel('Значения')\n",
        "plt.ylabel('Частота')\n",
        "plt.show()\n"
      ],
      "metadata": {
        "colab": {
          "base_uri": "https://localhost:8080/",
          "height": 574
        },
        "id": "qTa369vGQmKm",
        "outputId": "d9ac5ecc-fc27-4266-e6e9-5be57d6fa467"
      },
      "execution_count": null,
      "outputs": [
        {
          "output_type": "stream",
          "name": "stdout",
          "text": [
            "Первый набор данных:\n",
            "Коэффициент асимметрии: 0.0, Коэффициент эксцесса: -1.56508875739645\n",
            "Второй набор данных:\n",
            "Коэффициент асимметрии: 0.7565586244407937, Коэффициент эксцесса: -1.10027284549805\n",
            "Проверка для первого набора данных: Экцесc: -1.56508875739645, Ассиметрия: 0.0\n",
            "Проверка для второго набора данных: Экцесc: -1.1002728454980493, Ассиметрия: 0.7565586244407938\n"
          ]
        },
        {
          "output_type": "display_data",
          "data": {
            "text/plain": [
              "<Figure size 640x480 with 1 Axes>"
            ],
            "image/png": "[encoded data removed]"
          },
          "metadata": {}
        }
      ]
    },
    {
      "cell_type": "markdown",
      "source": [
        "### Куда и как сдавать работу?\n",
        "\n",
        "По инструкции в гитхаб – https://shy-question-39d.notion.site/1150ea832e418032bfc3d3e827c380fb?pvs=74\n",
        "\n",
        "**Устная защита работ не требуется, но вам могут быть заданы вопросы прямо в вашем пул-реквесте!**"
      ],
      "metadata": {
        "id": "S0lPIXMvB6vb"
      }
    },
    {
      "cell_type": "code",
      "source": [],
      "metadata": {
        "id": "qiQPuwJNwpuk"
      },
      "execution_count": null,
      "outputs": []
    }
  ]
}